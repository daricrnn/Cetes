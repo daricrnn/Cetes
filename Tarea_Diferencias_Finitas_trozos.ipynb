{
  "nbformat": 4,
  "nbformat_minor": 0,
  "metadata": {
    "colab": {
      "provenance": [],
      "authorship_tag": "ABX9TyNwg39NQ+zR6RwazIagjno+",
      "include_colab_link": true
    },
    "kernelspec": {
      "name": "python3",
      "display_name": "Python 3"
    },
    "language_info": {
      "name": "python"
    }
  },
  "cells": [
    {
      "cell_type": "markdown",
      "metadata": {
        "id": "view-in-github",
        "colab_type": "text"
      },
      "source": [
        "<a href=\"https://colab.research.google.com/github/daricrnn/Cetes/blob/main/Tarea_Diferencias_Finitas_trozos.ipynb\" target=\"_parent\"><img src=\"https://colab.research.google.com/assets/colab-badge.svg\" alt=\"Open In Colab\"/></a>"
      ]
    },
    {
      "cell_type": "markdown",
      "source": [
        "Aplique el método de diferencias finitas para aproximar las soluciones de los\n",
        "siguientes problemas con valores iniciales."
      ],
      "metadata": {
        "id": "ipx5u6k2SrBe"
      }
    },
    {
      "cell_type": "markdown",
      "source": [
        "(a)   y''=4y, y(0)=1, y (1)=3 con n=5 y i=1,2,3,4"
      ],
      "metadata": {
        "id": "3kKlbZMqUFzH"
      }
    },
    {
      "cell_type": "code",
      "source": [
        "#Importamos la libreria Sympy\n",
        "import sympy as sp\n",
        "import numpy as np"
      ],
      "metadata": {
        "id": "o2RpeWcgUIgG"
      },
      "execution_count": 2,
      "outputs": []
    },
    {
      "cell_type": "code",
      "source": [
        "#Damos de alta la variable simbolica x, y la funcio y\n",
        "x = sp.Symbol('x')\n",
        "y = sp.Function('y')(x)\n",
        "z = sp.Function('z')(x)"
      ],
      "metadata": {
        "id": "IxHEGFYiUgXm"
      },
      "execution_count": 33,
      "outputs": []
    },
    {
      "cell_type": "code",
      "source": [
        "# Definir la ecuación diferencial en términos de dos ecuaciones de primer orden\n",
        "#y''=4y\n",
        "eq1 = sp.Eq(z, y.diff(x))\n",
        "eq2 = sp.Eq(z.diff(x), 4*y)"
      ],
      "metadata": {
        "id": "B94uMQ_BggCO"
      },
      "execution_count": 35,
      "outputs": []
    },
    {
      "cell_type": "code",
      "source": [
        "#condiciones iniciales\n",
        "y0 = 1\n",
        "z0 = 3"
      ],
      "metadata": {
        "id": "bPwzuUa0g9yk"
      },
      "execution_count": 36,
      "outputs": []
    },
    {
      "cell_type": "code",
      "source": [
        "#Resolviendo la ecuaacion diferencial\n",
        "sol = sp.dsolve([eq1, eq2], [y, z], ics={y.subs(x, 0): y0, z.subs(x, 1): z0})\n",
        "sol"
      ],
      "metadata": {
        "colab": {
          "base_uri": "https://localhost:8080/"
        },
        "id": "XiMPd846hLme",
        "outputId": "a1dde584-a1f8-4bf6-8a2c-ad268bc445fa"
      },
      "execution_count": 37,
      "outputs": [
        {
          "output_type": "execute_result",
          "data": {
            "text/plain": [
              "[Eq(y(x), (2 + 3*exp(2))*exp(2*x)/(2*(1 + exp(4))) - (-2*exp(4) + 3*exp(2))*exp(-2*x)/(2*(1 + exp(4)))),\n",
              " Eq(z(x), (2 + 3*exp(2))*exp(2*x)/(1 + exp(4)) + (-2*exp(4) + 3*exp(2))*exp(-2*x)/(1 + exp(4)))]"
            ]
          },
          "metadata": {},
          "execution_count": 37
        }
      ]
    },
    {
      "cell_type": "markdown",
      "source": [
        "(b)   y''(x)=2cos(x)-y' (x), y(0)=-1, y(pip)=1 con i=1,2,3 y n=3"
      ],
      "metadata": {
        "id": "UlKOhRX-hgtP"
      }
    },
    {
      "cell_type": "code",
      "source": [
        "#Importamos la libreria Sympy\n",
        "import sympy as sp\n",
        "import numpy as np"
      ],
      "metadata": {
        "id": "PVYrcufjjBKK"
      },
      "execution_count": 1,
      "outputs": []
    },
    {
      "cell_type": "code",
      "source": [
        "# Definir las variables y la función\n",
        "x = sp.symbols('x')\n",
        "y = sp.Function('y')(x)\n",
        "z = sp.Function('z')(x)"
      ],
      "metadata": {
        "id": "9iMF2n54jnMh"
      },
      "execution_count": 2,
      "outputs": []
    },
    {
      "cell_type": "code",
      "source": [
        "# Definir el número de subintervalos\n",
        "n = 3"
      ],
      "metadata": {
        "id": "4uq4f01pj1Or"
      },
      "execution_count": 3,
      "outputs": []
    },
    {
      "cell_type": "code",
      "source": [
        "# Ancho de cada subintervalo\n",
        "h = sp.pi / n"
      ],
      "metadata": {
        "id": "EB6QD6msj25u"
      },
      "execution_count": 4,
      "outputs": []
    },
    {
      "cell_type": "code",
      "source": [
        "# Definir la ecuación diferencial en términos de dos ecuaciones de primer orden\n",
        "eq1 = sp.Eq(z, y.diff(x))\n",
        "eq2 = sp.Eq(z.diff(x), 2*sp.cos(x) - z)"
      ],
      "metadata": {
        "id": "c__QWxTOj89Q"
      },
      "execution_count": 5,
      "outputs": []
    },
    {
      "cell_type": "code",
      "source": [
        "# Condiciones iniciales\n",
        "y0 = -1\n",
        "y_pi = 1\n",
        "\n"
      ],
      "metadata": {
        "id": "oVbr2M5vkGV6"
      },
      "execution_count": 9,
      "outputs": []
    },
    {
      "cell_type": "code",
      "source": [
        "# Resolver las ecuaciones diferenciales\n",
        "sol = sp.dsolve([eq1, eq2], [y, z], ics={y.subs(x, 0): y0, y.subs(x, sp.pi): y_pi})\n",
        "sol"
      ],
      "metadata": {
        "colab": {
          "base_uri": "https://localhost:8080/"
        },
        "id": "DnlocUyvkKn4",
        "outputId": "08432cd2-8be3-4adb-f931-275a56ac94c2"
      },
      "execution_count": 7,
      "outputs": [
        {
          "output_type": "execute_result",
          "data": {
            "text/plain": [
              "[Eq(y(x), sin(x) - cos(x)), Eq(z(x), sin(x) + cos(x))]"
            ]
          },
          "metadata": {},
          "execution_count": 7
        }
      ]
    },
    {
      "cell_type": "markdown",
      "source": [
        "Aplique el método de diferencias finitas con condiciones en los bordes con deriva-\n",
        "das y\n",
        "\n",
        "′′(x) = y(x) − 3x + cos (2πx), y\n",
        "′\n",
        "(0) = 1 y y(1) = 0 con n = 3 y i =\n",
        "\n",
        "0,1,2,3."
      ],
      "metadata": {
        "id": "i5c2NFAakWMf"
      }
    },
    {
      "cell_type": "markdown",
      "source": [
        " (a)Tome h= b-a % n"
      ],
      "metadata": {
        "id": "kfcGjyCgkbQh"
      }
    },
    {
      "cell_type": "code",
      "source": [
        "import numpy as np"
      ],
      "metadata": {
        "id": "avA2vpQRmEhC"
      },
      "execution_count": 10,
      "outputs": []
    },
    {
      "cell_type": "code",
      "source": [
        "# Definir los parámetros\n",
        "a = 0  # Extremo izquierdo del intervalo\n",
        "b = 1  # Extremo derecho del intervalo\n",
        "n = 3  # Número de subintervalos"
      ],
      "metadata": {
        "id": "Mp7jo46qmGQ-"
      },
      "execution_count": 11,
      "outputs": []
    },
    {
      "cell_type": "code",
      "source": [
        "# Calcular el ancho de cada subintervalo\n",
        "h = (b - a) / n"
      ],
      "metadata": {
        "id": "xuecTiXrmMpX"
      },
      "execution_count": 12,
      "outputs": []
    },
    {
      "cell_type": "code",
      "source": [
        "# Definir los puntos de la malla\n",
        "x = np.linspace(a, b, n+1)"
      ],
      "metadata": {
        "id": "yevXZBEomRHC"
      },
      "execution_count": 13,
      "outputs": []
    },
    {
      "cell_type": "code",
      "source": [
        "# Inicializar el arreglo para almacenar las soluciones\n",
        "y = np.zeros(n+1)"
      ],
      "metadata": {
        "id": "O0JcdoMCmVc-"
      },
      "execution_count": 14,
      "outputs": []
    },
    {
      "cell_type": "code",
      "source": [
        "# Aplicar las condiciones de frontera\n",
        "y[0] = 0  # y(0) = 0\n",
        "y[-1] = 0  # y(1) = 0"
      ],
      "metadata": {
        "id": "Jwv_6cZDmx89"
      },
      "execution_count": 15,
      "outputs": []
    },
    {
      "cell_type": "code",
      "source": [
        "# Resolver la ecuación diferencial en los puntos internos de la malla\n",
        "for i in range(1, n):\n",
        "    y[i] = y[i-1] + h * (y[i-1] - 3 * x[i-1] + np.cos(2 * np.pi * x[i-1]))\n"
      ],
      "metadata": {
        "id": "ILgvKKVwm4sF"
      },
      "execution_count": 16,
      "outputs": []
    },
    {
      "cell_type": "code",
      "source": [
        "# Imprimir la solución\n",
        "print(\"Solución aproximada utilizando el método de diferencias finitas:\")"
      ],
      "metadata": {
        "colab": {
          "base_uri": "https://localhost:8080/"
        },
        "id": "Zf34uG6OnIML",
        "outputId": "68d5eef8-4f1d-4509-f54f-ac44d9bd20be"
      },
      "execution_count": 19,
      "outputs": [
        {
          "output_type": "stream",
          "name": "stdout",
          "text": [
            "Solución aproximada utilizando el método de diferencias finitas:\n"
          ]
        }
      ]
    },
    {
      "cell_type": "code",
      "source": [
        "for i in range(n + 1):\n",
        "    print(f\"y({x[i]}) = {y[i]}\")"
      ],
      "metadata": {
        "colab": {
          "base_uri": "https://localhost:8080/"
        },
        "id": "ZC4-4VS-nPpl",
        "outputId": "54512454-6fed-455e-a0f1-8f4287639eb0"
      },
      "execution_count": 20,
      "outputs": [
        {
          "output_type": "stream",
          "name": "stdout",
          "text": [
            "y(0.0) = 0.0\n",
            "y(0.3333333333333333) = 0.3333333333333333\n",
            "y(0.6666666666666666) = -0.055555555555555525\n",
            "y(1.0) = 0.0\n"
          ]
        }
      ]
    },
    {
      "cell_type": "markdown",
      "source": [
        "(b)   Tome h= b-a % n +1\n",
        "\n"
      ],
      "metadata": {
        "id": "ET1Tl-FCnTzv"
      }
    },
    {
      "cell_type": "code",
      "source": [
        "import numpy as np"
      ],
      "metadata": {
        "id": "2GyOGDGan21Q"
      },
      "execution_count": 21,
      "outputs": []
    },
    {
      "cell_type": "code",
      "source": [
        "# Definir los parámetros\n",
        "a = 0  # Extremo izquierdo del intervalo\n",
        "b = 1  # Extremo derecho del intervalo\n",
        "n = 3  # Número de subintervalos"
      ],
      "metadata": {
        "id": "Qntwt-Lvn68t"
      },
      "execution_count": 22,
      "outputs": []
    },
    {
      "cell_type": "code",
      "source": [
        "# Calcular el ancho de cada subintervalo\n",
        "h = (b - a) / n + 1"
      ],
      "metadata": {
        "id": "aAVw8ndqoeuz"
      },
      "execution_count": 23,
      "outputs": []
    },
    {
      "cell_type": "code",
      "source": [
        "# Definir los puntos de la malla\n",
        "x = np.linspace(a, b, n+1)\n"
      ],
      "metadata": {
        "id": "kAkCOdTLogDm"
      },
      "execution_count": 24,
      "outputs": []
    },
    {
      "cell_type": "code",
      "source": [
        "# Inicializar el arreglo para almacenar las soluciones\n",
        "y = np.zeros(n+1)"
      ],
      "metadata": {
        "id": "cQneceKbojql"
      },
      "execution_count": 25,
      "outputs": []
    },
    {
      "cell_type": "code",
      "source": [
        "# Aplicar las condiciones de frontera\n",
        "y[0] = 0  # y(0) = 0\n",
        "y[-1] = 0  # y(1) = 0"
      ],
      "metadata": {
        "id": "wFwZzdV6oo5S"
      },
      "execution_count": 26,
      "outputs": []
    },
    {
      "cell_type": "code",
      "source": [
        "\n",
        "# Resolver la ecuación diferencial en los puntos internos de la malla\n",
        "for i in range(1, n):\n",
        "    y[i] = y[i-1] + h * (y[i-1] - 3 * x[i-1] + np.cos(2 * np.pi * x[i-1]))\n"
      ],
      "metadata": {
        "id": "zNTClY_votRa"
      },
      "execution_count": 27,
      "outputs": []
    },
    {
      "cell_type": "code",
      "source": [
        "# Imprimir la solución\n",
        "print(\"Solución aproximada utilizando el método de diferencias finitas:\")\n",
        "for i in range(n + 1):\n",
        "    print(f\"y({x[i]}) = {y[i]}\")"
      ],
      "metadata": {
        "colab": {
          "base_uri": "https://localhost:8080/"
        },
        "id": "MbBPLtIVowQz",
        "outputId": "ea44cd7e-f73d-4f69-819d-b3ee017c7c61"
      },
      "execution_count": 29,
      "outputs": [
        {
          "output_type": "stream",
          "name": "stdout",
          "text": [
            "Solución aproximada utilizando el método de diferencias finitas:\n",
            "y(0.0) = 0.0\n",
            "y(0.3333333333333333) = 1.3333333333333333\n",
            "y(0.6666666666666666) = 1.1111111111111112\n",
            "y(1.0) = 0.0\n"
          ]
        }
      ]
    },
    {
      "cell_type": "markdown",
      "source": [
        "3. La deflexión de una placa rectangular larga y uniforme cargada, y que se encuentra bajo\n",
        "una fuerza de tensión axial, se rige por una ecuación diferencial de segundo orden. Sea\n",
        "S la fuerza axial y q la intensidad de la carga uniforme. La deflexión y a lo largo de la\n",
        "longitud elemental está dada por\n",
        "y\n",
        "′′(x) − (S/D)y(x) = − ql⁄(2D) x + (q/2D)x\n",
        "2\n",
        ", 0 ≤ x ≤ l, y(0) = y(l) = 0\n",
        "Donde l es la longitud de la placa y D es la rigidez de la deflexión de la placa. Considere\n",
        "q = 200 lb plg\n",
        "\n",
        "2 ⁄ , S = 100 lb/plg,D = 8.8 × 107\n",
        "\n",
        "lb/plg, l = 50 plg. Aproxime la\n",
        "\n",
        "deflexión con h = 1 plg."
      ],
      "metadata": {
        "id": "q7F1yZOpo-rm"
      }
    },
    {
      "cell_type": "code",
      "source": [
        "import numpy as np\n",
        "from scipy.linalg import solve\n"
      ],
      "metadata": {
        "id": "f5PAqyTmpAbL"
      },
      "execution_count": 30,
      "outputs": []
    },
    {
      "cell_type": "code",
      "source": [
        "# Definir los parámetros\n",
        "q = 200  # lb/plg^2\n",
        "S = 100  # lb/plg\n",
        "D = 8.8e7  # lb/plg\n",
        "l = 50  # plg\n",
        "h = 1  # plg"
      ],
      "metadata": {
        "id": "NEM4NNkvpRz2"
      },
      "execution_count": 31,
      "outputs": []
    },
    {
      "cell_type": "code",
      "source": [
        "# Calcular el número de puntos\n",
        "n = int(l / h)"
      ],
      "metadata": {
        "id": "loFntUYupVPM"
      },
      "execution_count": 32,
      "outputs": []
    },
    {
      "cell_type": "code",
      "source": [
        "# Inicializar la matriz de coeficientes y el vector de términos independientes\n",
        "A = np.zeros((n-1, n-1))\n",
        "b = np.zeros(n-1)\n"
      ],
      "metadata": {
        "id": "3rpnYtJ9pfwB"
      },
      "execution_count": 33,
      "outputs": []
    },
    {
      "cell_type": "code",
      "source": [
        "# Llenar la matriz de coeficientes y el vector de términos independientes\n",
        "for i in range(1, n):\n",
        "    x = i * h\n",
        "    A[i-1, i-1] = -2 * D / h**2 + S / D\n",
        "    if i > 1:\n",
        "        A[i-1, i-2] = 1 / h**2\n",
        "    if i < n-1:\n",
        "        A[i-1, i] = 1 / h**2\n",
        "    b[i-1] = -q * l**3 / (2 * D) * x + (q / 2 * D) * x**2"
      ],
      "metadata": {
        "id": "civxeYMwplrU"
      },
      "execution_count": 34,
      "outputs": []
    },
    {
      "cell_type": "code",
      "source": [
        "# Resolver el sistema de ecuaciones lineales\n",
        "y_interior = solve(A, b)\n"
      ],
      "metadata": {
        "id": "OOoUWqdwppvQ"
      },
      "execution_count": 35,
      "outputs": []
    },
    {
      "cell_type": "code",
      "source": [
        "# Concatenar los valores de la deflexión en los extremos\n",
        "y = np.concatenate(([0], y_interior, [0]))"
      ],
      "metadata": {
        "id": "aCEXtqQRptUH"
      },
      "execution_count": 36,
      "outputs": []
    },
    {
      "cell_type": "code",
      "source": [
        "# Imprimir la solución\n",
        "print(\"Deflexión aproximada en cada punto de la malla:\")\n",
        "for i in range(n+1):\n",
        "    print(f\"y({i*h}) = {y[i]}\")"
      ],
      "metadata": {
        "colab": {
          "base_uri": "https://localhost:8080/"
        },
        "id": "KS-BTNYJpwq1",
        "outputId": "f4923cf2-0ef5-4db9-af1b-96873a64f495"
      },
      "execution_count": 37,
      "outputs": [
        {
          "output_type": "stream",
          "name": "stdout",
          "text": [
            "Deflexión aproximada en cada punto de la malla:\n",
            "y(0) = 0.0\n",
            "y(1) = -50.00000113555689\n",
            "y(2) = -200.0000028392963\n",
            "y(3) = -450.0000056794\n",
            "y(4) = -800.0000096558678\n",
            "y(5) = -1250.0000147687\n",
            "y(6) = -1800.0000210178962\n",
            "y(7) = -2450.0000284034572\n",
            "y(8) = -3200.000036925382\n",
            "y(9) = -4050.000046583671\n",
            "y(10) = -5000.000057378326\n",
            "y(11) = -6050.000069309343\n",
            "y(12) = -7200.000082376725\n",
            "y(13) = -8450.00009658047\n",
            "y(14) = -9800.000111920584\n",
            "y(15) = -11250.00012839706\n",
            "y(16) = -12800.000146009896\n",
            "y(17) = -14450.000164759102\n",
            "y(18) = -16200.000184644668\n",
            "y(19) = -18050.0002056666\n",
            "y(20) = -20000.0002278249\n",
            "y(21) = -22050.00025111956\n",
            "y(22) = -24200.000275550585\n",
            "y(23) = -26450.000301117972\n",
            "y(24) = -28800.000327821723\n",
            "y(25) = -31250.000355661843\n",
            "y(26) = -33800.000384638326\n",
            "y(27) = -36450.00041475117\n",
            "y(28) = -39200.00044600038\n",
            "y(29) = -42050.00047838596\n",
            "y(30) = -45000.0005119079\n",
            "y(31) = -48050.0005465662\n",
            "y(32) = -51200.000582360866\n",
            "y(33) = -54450.000619291895\n",
            "y(34) = -57800.00065735929\n",
            "y(35) = -61250.00069656306\n",
            "y(36) = -64800.00073690318\n",
            "y(37) = -68450.00077837968\n",
            "y(38) = -72200.00082099251\n",
            "y(39) = -76050.00086474174\n",
            "y(40) = -80000.00090962733\n",
            "y(41) = -84050.00095564927\n",
            "y(42) = -88200.00100280759\n",
            "y(43) = -92450.00105110227\n",
            "y(44) = -96800.0011005333\n",
            "y(45) = -101250.0011511007\n",
            "y(46) = -105800.00120280446\n",
            "y(47) = -110450.0012556446\n",
            "y(48) = -115200.0013096211\n",
            "y(49) = -120050.00065450667\n",
            "y(50) = 0.0\n"
          ]
        }
      ]
    },
    {
      "cell_type": "markdown",
      "source": [
        "Utilice el método de polinomio a trozos para aproximar las siguientes funciones."
      ],
      "metadata": {
        "id": "FUJ8xsy8p4SN"
      }
    },
    {
      "cell_type": "markdown",
      "source": [
        "1 (x + (1 − x)\n",
        "2 ⁄ con 10 nodos diferentes."
      ],
      "metadata": {
        "id": "MREuKZGPp5dU"
      }
    },
    {
      "cell_type": "code",
      "source": [
        "import numpy as np\n",
        "import matplotlib.pyplot as plt\n"
      ],
      "metadata": {
        "id": "iBPy5n-TqQfB"
      },
      "execution_count": 38,
      "outputs": []
    },
    {
      "cell_type": "code",
      "source": [
        "# Definir la función f(x)\n",
        "def f(x):\n",
        "    return 0.5 * (x + (1 - x))**2"
      ],
      "metadata": {
        "id": "-g-Xb5RLqjyu"
      },
      "execution_count": 39,
      "outputs": []
    },
    {
      "cell_type": "code",
      "source": [
        "# Definir la función sombrero\n",
        "def phi(x, xi, i):\n",
        "    hi = xi[1] - xi[0]\n",
        "    f = np.zeros_like(x)\n",
        "    for m in range(len(x)):\n",
        "        if i == 0:\n",
        "            if xi[i] <= x[m] < xi[i+1]:\n",
        "                f[m] = (xi[i+1] - x[m]) / hi\n",
        "            else:\n",
        "                f[m] = 0.0\n",
        "        elif i == len(xi) - 1:\n",
        "            if (xi[i-1] < x[m] <= xi[i]):\n",
        "                f[m] = (x[m] - xi[i-1]) / hi\n",
        "            else:\n",
        "                f[m] = 0.0\n",
        "        else:\n",
        "            if (xi[i-1] < x[m] <= xi[i]):\n",
        "                f[m] = (x[m] - xi[i-1]) / hi\n",
        "            elif xi[i] < x[m] <= xi[i+1]:\n",
        "                f[m] = (xi[i+1] - x[m]) / hi\n",
        "            else:\n",
        "                f[m] = 0.0\n",
        "\n",
        "    return f\n"
      ],
      "metadata": {
        "id": "EekyYLJ4sfaD"
      },
      "execution_count": 40,
      "outputs": []
    },
    {
      "cell_type": "code",
      "source": [
        "# Definir el número de nodos\n",
        "nodos = 10"
      ],
      "metadata": {
        "id": "3aVsqYC0smI7"
      },
      "execution_count": 41,
      "outputs": []
    },
    {
      "cell_type": "code",
      "source": [
        "# Definir los nodos equiespaciados\n",
        "xi = np.linspace(0, 1, nodos)\n"
      ],
      "metadata": {
        "id": "9QVK7_kFspsQ"
      },
      "execution_count": 42,
      "outputs": []
    },
    {
      "cell_type": "code",
      "source": [
        "# Calcular las funciones de base en cada punto del intervalo\n",
        "x = np.linspace(0, 1, 200)\n",
        "bases = [phi(x, xi, i) for i in range(nodos)]\n"
      ],
      "metadata": {
        "id": "1xB7rKjhsrch"
      },
      "execution_count": 43,
      "outputs": []
    },
    {
      "cell_type": "code",
      "source": [
        "\n",
        "# Calcular la aproximación de f(x)\n",
        "f_aprox = np.zeros_like(x)\n",
        "for i in range(nodos):\n",
        "    f_aprox += f(xi[i]) * bases[i]"
      ],
      "metadata": {
        "id": "JCEvGhwLsvgM"
      },
      "execution_count": 44,
      "outputs": []
    },
    {
      "cell_type": "code",
      "source": [
        "# Graficar la función f(x) y la aproximación\n",
        "plt.plot(x, f(x), label='f(x)')\n",
        "plt.plot(x, f_aprox, label='Aproximación')\n",
        "plt.scatter(xi, f(xi), color='red', label='Nodos')\n",
        "plt.xlabel('x')\n",
        "plt.ylabel('f(x)')\n",
        "plt.title('Aproximación de f(x) utilizando funciones sombrero')\n",
        "plt.legend()\n",
        "plt.grid(True)\n",
        "plt.show()"
      ],
      "metadata": {
        "colab": {
          "base_uri": "https://localhost:8080/",
          "height": 472
        },
        "id": "Ub7sFZsRszgv",
        "outputId": "4b951909-788b-4f5a-8593-6624d061affe"
      },
      "execution_count": 45,
      "outputs": [
        {
          "output_type": "display_data",
          "data": {
            "text/plain": [
              "<Figure size 640x480 with 1 Axes>"
            ],
            "image/png": "[encoded data removed]"
          },
          "metadata": {}
        }
      ]
    },
    {
      "cell_type": "markdown",
      "source": [
        "ii) 1 (1 + 16x\n",
        "2 ⁄ ) con 17 nodos diferentes"
      ],
      "metadata": {
        "id": "-ajyUszxtTyP"
      }
    },
    {
      "cell_type": "code",
      "source": [
        "import numpy as np\n",
        "import matplotlib.pyplot as plt\n"
      ],
      "metadata": {
        "id": "sty7sANntfiv"
      },
      "execution_count": 46,
      "outputs": []
    },
    {
      "cell_type": "code",
      "source": [
        "# Definir la función f(x)\n",
        "def f(x):\n",
        "    return 1 + 16 * x**2 / (1 + 16 * x**2)\n"
      ],
      "metadata": {
        "id": "6siTNhDZtoEH"
      },
      "execution_count": 47,
      "outputs": []
    },
    {
      "cell_type": "code",
      "source": [
        "# Definir la función sombrero\n",
        "def phi(x, xi, i):\n",
        "    hi = xi[1] - xi[0]\n",
        "    f = np.zeros_like(x)\n",
        "    for m in range(len(x)):\n",
        "        if i == 0:\n",
        "            if xi[i] <= x[m] < xi[i+1]:\n",
        "                f[m] = (xi[i+1] - x[m]) / hi\n",
        "            else:\n",
        "                f[m] = 0.0\n",
        "        elif i == len(xi) - 1:\n",
        "            if (xi[i-1] < x[m] <= xi[i]):\n",
        "                f[m] = (x[m] - xi[i-1]) / hi\n",
        "            else:\n",
        "                f[m] = 0.0\n",
        "        else:\n",
        "            if (xi[i-1] < x[m] <= xi[i]):\n",
        "                f[m] = (x[m] - xi[i-1]) / hi\n",
        "            elif xi[i] < x[m] <= xi[i+1]:\n",
        "                f[m] = (xi[i+1] - x[m]) / hi\n",
        "            else:\n",
        "                f[m] = 0.0\n",
        "\n",
        "    return f"
      ],
      "metadata": {
        "id": "zQ1TWdhgtvjs"
      },
      "execution_count": 48,
      "outputs": []
    },
    {
      "cell_type": "code",
      "source": [
        "# Definir el número de nodos\n",
        "nodos = 17"
      ],
      "metadata": {
        "id": "4AJM8HLltzj8"
      },
      "execution_count": 49,
      "outputs": []
    },
    {
      "cell_type": "code",
      "source": [
        "# Definir los nodos equiespaciados\n",
        "xi = np.linspace(0, 1, nodos)\n"
      ],
      "metadata": {
        "id": "mJlKPB6Vt6_W"
      },
      "execution_count": 50,
      "outputs": []
    },
    {
      "cell_type": "code",
      "source": [
        "# Calcular las funciones de base en cada punto del intervalo\n",
        "x = np.linspace(0, 1, 200)\n",
        "bases = [phi(x, xi, i) for i in range(nodos)]\n"
      ],
      "metadata": {
        "id": "LThjR5G6t-Ip"
      },
      "execution_count": 51,
      "outputs": []
    },
    {
      "cell_type": "code",
      "source": [
        "# Calcular la aproximación de f(x)\n",
        "f_aprox = np.zeros_like(x)\n",
        "for i in range(nodos):\n",
        "    f_aprox += f(xi[i]) * bases[i]"
      ],
      "metadata": {
        "id": "tLJLs-rZuCCI"
      },
      "execution_count": 52,
      "outputs": []
    },
    {
      "cell_type": "code",
      "source": [
        "# Graficar la función f(x) y la aproximación\n",
        "plt.plot(x, f(x), label='f(x)')\n",
        "plt.plot(x, f_aprox, label='Aproximación')\n",
        "plt.scatter(xi, f(xi), color='red', label='Nodos')\n",
        "plt.xlabel('x')\n",
        "plt.ylabel('f(x)')\n",
        "plt.title('Aproximación de f(x) utilizando funciones sombrero')\n",
        "plt.legend()\n",
        "plt.grid(True)\n",
        "plt.show()"
      ],
      "metadata": {
        "colab": {
          "base_uri": "https://localhost:8080/",
          "height": 472
        },
        "id": "uaMYDKRUuFdY",
        "outputId": "bfc3d655-d1a3-440f-a7bc-840cd4b0ad8d"
      },
      "execution_count": 53,
      "outputs": [
        {
          "output_type": "display_data",
          "data": {
            "text/plain": [
              "<Figure size 640x480 with 1 Axes>"
            ],
            "image/png": "[encoded data removed]"
          },
          "metadata": {}
        }
      ]
    }
  ]
}